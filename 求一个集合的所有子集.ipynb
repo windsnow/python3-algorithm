{
 "cells": [
  {
   "cell_type": "code",
   "execution_count": 1,
   "metadata": {
    "collapsed": true
   },
   "outputs": [],
   "source": [
    "import numpy as np"
   ]
  },
  {
   "cell_type": "code",
   "execution_count": 2,
   "metadata": {
    "collapsed": true
   },
   "outputs": [],
   "source": [
    "n = 5 \n",
    "s = np.array(range(n))"
   ]
  },
  {
   "cell_type": "code",
   "execution_count": 3,
   "metadata": {},
   "outputs": [
    {
     "data": {
      "text/plain": [
       "array([0, 1, 2, 3, 4])"
      ]
     },
     "execution_count": 3,
     "metadata": {},
     "output_type": "execute_result"
    }
   ],
   "source": [
    "s"
   ]
  },
  {
   "cell_type": "code",
   "execution_count": 10,
   "metadata": {
    "collapsed": true
   },
   "outputs": [],
   "source": [
    "e  = list(bin(2))[2:]"
   ]
  },
  {
   "cell_type": "code",
   "execution_count": 11,
   "metadata": {},
   "outputs": [
    {
     "data": {
      "text/plain": [
       "['1', '0']"
      ]
     },
     "execution_count": 11,
     "metadata": {},
     "output_type": "execute_result"
    }
   ],
   "source": [
    "e"
   ]
  },
  {
   "cell_type": "code",
   "execution_count": 14,
   "metadata": {
    "collapsed": true
   },
   "outputs": [],
   "source": [
    "e = np.array(e) == '1'"
   ]
  },
  {
   "cell_type": "code",
   "execution_count": 15,
   "metadata": {},
   "outputs": [
    {
     "data": {
      "text/plain": [
       "array([ True, False], dtype=bool)"
      ]
     },
     "execution_count": 15,
     "metadata": {},
     "output_type": "execute_result"
    }
   ],
   "source": [
    "e"
   ]
  },
  {
   "cell_type": "code",
   "execution_count": 17,
   "metadata": {},
   "outputs": [
    {
     "name": "stdout",
     "output_type": "stream",
     "text": [
      "[3]\n"
     ]
    }
   ],
   "source": [
    "print(s[n-len(e):][e])"
   ]
  },
  {
   "cell_type": "code",
   "execution_count": 19,
   "metadata": {},
   "outputs": [
    {
     "name": "stdout",
     "output_type": "stream",
     "text": [
      "[]\n",
      "[4]\n",
      "[3]\n",
      "[3 4]\n",
      "[2]\n",
      "[2 4]\n",
      "[2 3]\n",
      "[2 3 4]\n",
      "[1]\n",
      "[1 4]\n",
      "[1 3]\n",
      "[1 3 4]\n",
      "[1 2]\n",
      "[1 2 4]\n",
      "[1 2 3]\n",
      "[1 2 3 4]\n",
      "[0]\n",
      "[0 4]\n",
      "[0 3]\n",
      "[0 3 4]\n",
      "[0 2]\n",
      "[0 2 4]\n",
      "[0 2 3]\n",
      "[0 2 3 4]\n",
      "[0 1]\n",
      "[0 1 4]\n",
      "[0 1 3]\n",
      "[0 1 3 4]\n",
      "[0 1 2]\n",
      "[0 1 2 4]\n",
      "[0 1 2 3]\n",
      "[0 1 2 3 4]\n"
     ]
    }
   ],
   "source": [
    "# 所有代码\n",
    "import numpy as np\n",
    "n = 5\n",
    "s = np.array(range(n))\n",
    "for i in range(2**n):\n",
    "    e = list(bin(i))[2:]\n",
    "    e = np.array(e) == '1'\n",
    "    print(s[n-len(e):][e])"
   ]
  },
  {
   "cell_type": "code",
   "execution_count": null,
   "metadata": {
    "collapsed": true
   },
   "outputs": [],
   "source": []
  }
 ],
 "metadata": {
  "kernelspec": {
   "display_name": "Python 3",
   "language": "python",
   "name": "python3"
  },
  "language_info": {
   "codemirror_mode": {
    "name": "ipython",
    "version": 3
   },
   "file_extension": ".py",
   "mimetype": "text/x-python",
   "name": "python",
   "nbconvert_exporter": "python",
   "pygments_lexer": "ipython3",
   "version": "3.6.1"
  }
 },
 "nbformat": 4,
 "nbformat_minor": 2
}
